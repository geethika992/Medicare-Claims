{
 "cells": [
  {
   "cell_type": "code",
   "execution_count": 239,
   "metadata": {},
   "outputs": [],
   "source": [
    "import pandas as pd\n",
    "import numpy as np\n",
    "import altair as alt\n",
    "import matplotlib.pyplot as plt\n",
    "import seaborn as sns\n",
    "from sklearn.impute import SimpleImputer\n",
    "from sklearn.preprocessing import OneHotEncoder, LabelEncoder, OrdinalEncoder, StandardScaler\n",
    "import src.util as util\n",
    "import yaml\n",
    "import copy\n",
    "from tqdm import tqdm\n",
    "import os\n",
    "from datetime import datetime\n",
    "import openpyxl\n",
    "from transformers import BertTokenizer, BertModel\n",
    "import torch\n",
    "from sklearn.metrics.pairwise import cosine_similarity\n",
    "from sklearn.preprocessing import RobustScaler\n",
    "from sklearn.ensemble import IsolationForest\n",
    "from sklearn.preprocessing import StandardScaler\n",
    "from sklearn.manifold import TSNE"
   ]
  },
  {
   "cell_type": "code",
   "execution_count": 240,
   "metadata": {},
   "outputs": [],
   "source": [
    "config_data=util.config_load()"
   ]
  },
  {
   "cell_type": "code",
   "execution_count": 256,
   "metadata": {},
   "outputs": [],
   "source": [
    "data_if_rank=util.pickle_load(config_data['raw_dataset_path_if_rank'])\n",
    "data_lof_rank=util.pickle_load(config_data['raw_dataset_path_lof_rank'])\n",
    "data_rrcf_rank=util.pickle_load(config_data['raw_dataset_path_rrcf_rank'])\n",
    "data_if_prv_amt_rank=util.pickle_load(config_data['raw_dataset_path_if_amt_rank'])\n",
    "data_combined=util.pickle_load(config_data[\"raw_dataset_path_data_combined\"])"
   ]
  },
  {
   "cell_type": "code",
   "execution_count": 257,
   "metadata": {},
   "outputs": [
    {
     "data": {
      "text/plain": [
       "21    2321890\n",
       "Name: PRV_TotalInscClaimAmtReimbursed, dtype: int64"
      ]
     },
     "execution_count": 257,
     "metadata": {},
     "output_type": "execute_result"
    }
   ],
   "source": [
    "data_combined[data_combined.Provider=='PRV51459']['PRV_TotalInscClaimAmtReimbursed']"
   ]
  },
  {
   "cell_type": "code",
   "execution_count": 243,
   "metadata": {},
   "outputs": [
    {
     "data": {
      "text/plain": [
       "195"
      ]
     },
     "execution_count": 243,
     "metadata": {},
     "output_type": "execute_result"
    }
   ],
   "source": [
    "len(data_if_rank)"
   ]
  },
  {
   "cell_type": "code",
   "execution_count": 258,
   "metadata": {},
   "outputs": [],
   "source": [
    "rankings_rrcf=data_if_rank.set_index('Rank')['Provider']\n",
    "rankings_lof=data_lof_rank.set_index('Rank')['Provider']\n",
    "rankings_if=data_rrcf_rank.set_index('Rank')['Provider']\n",
    "rankings_if_prv_amt=data_if_prv_amt_rank['Provider']"
   ]
  },
  {
   "cell_type": "code",
   "execution_count": 245,
   "metadata": {},
   "outputs": [
    {
     "data": {
      "text/plain": [
       "Rank\n",
       "1      PRV52473\n",
       "2      PRV53061\n",
       "3      PRV51248\n",
       "4      PRV57455\n",
       "5      PRV57690\n",
       "         ...   \n",
       "537    PRV55205\n",
       "538    PRV55839\n",
       "539    PRV51735\n",
       "540    PRV56322\n",
       "541    PRV52072\n",
       "Name: Provider, Length: 541, dtype: object"
      ]
     },
     "execution_count": 245,
     "metadata": {},
     "output_type": "execute_result"
    }
   ],
   "source": [
    "rankings_lof"
   ]
  },
  {
   "cell_type": "code",
   "execution_count": 259,
   "metadata": {},
   "outputs": [],
   "source": [
    "def borda_rankings(rankings):\n",
    "    # Dictionary to store points for each provider\n",
    "    points = {}\n",
    "    \n",
    "    # List to store the sum of points for the first 3 rankings and last ranking\n",
    "    first_three_points = {}\n",
    "    last_points = {}\n",
    "    \n",
    "    # Iterate through each ranking (model)\n",
    "    for i, ranking in enumerate(rankings):\n",
    "        num_candidates = len(ranking)\n",
    "        \n",
    "        # Iterate through each provider in the ranking\n",
    "        for index, candidate in ranking.items():\n",
    "            if candidate not in points:\n",
    "                points[candidate] = 0\n",
    "            \n",
    "            # Points are calculated based on the rank in the current ranking\n",
    "            points[candidate] += (num_candidates - index) / (num_candidates - 1)\n",
    "            \n",
    "            # For the first three rankings, add points to the sum\n",
    "            if i < 3:\n",
    "                if candidate not in first_three_points:\n",
    "                    first_three_points[candidate] = 0\n",
    "                first_three_points[candidate] += (num_candidates - index) / (num_candidates - 1)\n",
    "            \n",
    "            # For the last ranking, add points to the sum\n",
    "            if i == len(rankings) - 1:\n",
    "                if candidate not in last_points:\n",
    "                    last_points[candidate] = 0\n",
    "                last_points[candidate] += (num_candidates - index) / (num_candidates - 1)\n",
    "    \n",
    "    # Prepare the data for the DataFrame\n",
    "    df_results = pd.DataFrame(list(points.items()), columns=['Provider', 'Borda_points'])\n",
    "    \n",
    "    # Add the sum of points from the first three rankings and the last ranking\n",
    "    df_results['Sum_first_three_points'] = df_results['Provider'].apply(lambda x: first_three_points.get(x, 0))\n",
    "    df_results['Sum_last_points'] = round(df_results['Provider'].apply(lambda x: last_points.get(x, 0)),2)\n",
    "    df_results['avg_ICD'] = round(df_results['Sum_first_three_points']/3,2)\n",
    "    df_results['Total_avg'] = round((df_results['Sum_first_three_points']/3)+( df_results['Sum_last_points']),2)\n",
    "    \n",
    "    # Sort the dataframe based on Borda points in descending order\n",
    "    df_results_sorted = df_results.sort_values('Total_avg', ascending=False)\n",
    "    \n",
    "    return df_results_sorted, points"
   ]
  },
  {
   "cell_type": "code",
   "execution_count": 260,
   "metadata": {},
   "outputs": [
    {
     "data": {
      "text/plain": [
       "Rank\n",
       "1      PRV52019\n",
       "2      PRV56560\n",
       "3      PRV56416\n",
       "4      PRV55215\n",
       "5      PRV55462\n",
       "         ...   \n",
       "467    PRV55850\n",
       "468    PRV52299\n",
       "469    PRV54925\n",
       "470    PRV51196\n",
       "471    PRV54653\n",
       "Name: Provider, Length: 471, dtype: object"
      ]
     },
     "execution_count": 260,
     "metadata": {},
     "output_type": "execute_result"
    }
   ],
   "source": [
    "rankings_if_prv_amt"
   ]
  },
  {
   "cell_type": "code",
   "execution_count": 261,
   "metadata": {},
   "outputs": [],
   "source": [
    "ranking=[\n",
    "    rankings_rrcf, \n",
    "    rankings_lof,   \n",
    "    rankings_if,\n",
    "    rankings_if_prv_amt\n",
    "\n",
    "]"
   ]
  },
  {
   "cell_type": "code",
   "execution_count": 262,
   "metadata": {},
   "outputs": [],
   "source": [
    "df_borda_rankings,points=borda_rankings(ranking)\n"
   ]
  },
  {
   "cell_type": "code",
   "execution_count": 263,
   "metadata": {},
   "outputs": [
    {
     "data": {
      "text/html": [
       "<div>\n",
       "<style scoped>\n",
       "    .dataframe tbody tr th:only-of-type {\n",
       "        vertical-align: middle;\n",
       "    }\n",
       "\n",
       "    .dataframe tbody tr th {\n",
       "        vertical-align: top;\n",
       "    }\n",
       "\n",
       "    .dataframe thead th {\n",
       "        text-align: right;\n",
       "    }\n",
       "</style>\n",
       "<table border=\"1\" class=\"dataframe\">\n",
       "  <thead>\n",
       "    <tr style=\"text-align: right;\">\n",
       "      <th></th>\n",
       "      <th>Provider</th>\n",
       "      <th>Borda_points</th>\n",
       "      <th>Sum_first_three_points</th>\n",
       "      <th>Sum_last_points</th>\n",
       "      <th>avg_ICD</th>\n",
       "      <th>Total_avg</th>\n",
       "    </tr>\n",
       "  </thead>\n",
       "  <tbody>\n",
       "    <tr>\n",
       "      <th>0</th>\n",
       "      <td>PRV51459</td>\n",
       "      <td>3.852049</td>\n",
       "      <td>2.864815</td>\n",
       "      <td>0.99</td>\n",
       "      <td>0.95</td>\n",
       "      <td>1.94</td>\n",
       "    </tr>\n",
       "    <tr>\n",
       "      <th>1</th>\n",
       "      <td>PRV53797</td>\n",
       "      <td>3.412103</td>\n",
       "      <td>2.450401</td>\n",
       "      <td>0.96</td>\n",
       "      <td>0.82</td>\n",
       "      <td>1.78</td>\n",
       "    </tr>\n",
       "    <tr>\n",
       "      <th>2</th>\n",
       "      <td>PRV51574</td>\n",
       "      <td>3.347965</td>\n",
       "      <td>2.384135</td>\n",
       "      <td>0.96</td>\n",
       "      <td>0.79</td>\n",
       "      <td>1.75</td>\n",
       "    </tr>\n",
       "    <tr>\n",
       "      <th>7</th>\n",
       "      <td>PRV52019</td>\n",
       "      <td>2.912066</td>\n",
       "      <td>1.912066</td>\n",
       "      <td>1.00</td>\n",
       "      <td>0.64</td>\n",
       "      <td>1.64</td>\n",
       "    </tr>\n",
       "    <tr>\n",
       "      <th>10</th>\n",
       "      <td>PRV55462</td>\n",
       "      <td>2.921424</td>\n",
       "      <td>1.929935</td>\n",
       "      <td>0.99</td>\n",
       "      <td>0.64</td>\n",
       "      <td>1.63</td>\n",
       "    </tr>\n",
       "    <tr>\n",
       "      <th>...</th>\n",
       "      <td>...</td>\n",
       "      <td>...</td>\n",
       "      <td>...</td>\n",
       "      <td>...</td>\n",
       "      <td>...</td>\n",
       "      <td>...</td>\n",
       "    </tr>\n",
       "    <tr>\n",
       "      <th>726</th>\n",
       "      <td>PRV57518</td>\n",
       "      <td>0.009259</td>\n",
       "      <td>0.009259</td>\n",
       "      <td>0.00</td>\n",
       "      <td>0.00</td>\n",
       "      <td>0.00</td>\n",
       "    </tr>\n",
       "    <tr>\n",
       "      <th>729</th>\n",
       "      <td>PRV51735</td>\n",
       "      <td>0.003704</td>\n",
       "      <td>0.003704</td>\n",
       "      <td>0.00</td>\n",
       "      <td>0.00</td>\n",
       "      <td>0.00</td>\n",
       "    </tr>\n",
       "    <tr>\n",
       "      <th>730</th>\n",
       "      <td>PRV56322</td>\n",
       "      <td>0.001852</td>\n",
       "      <td>0.001852</td>\n",
       "      <td>0.00</td>\n",
       "      <td>0.00</td>\n",
       "      <td>0.00</td>\n",
       "    </tr>\n",
       "    <tr>\n",
       "      <th>194</th>\n",
       "      <td>PRV52593</td>\n",
       "      <td>0.000000</td>\n",
       "      <td>0.000000</td>\n",
       "      <td>0.00</td>\n",
       "      <td>0.00</td>\n",
       "      <td>0.00</td>\n",
       "    </tr>\n",
       "    <tr>\n",
       "      <th>1081</th>\n",
       "      <td>PRV54653</td>\n",
       "      <td>0.000000</td>\n",
       "      <td>0.000000</td>\n",
       "      <td>0.00</td>\n",
       "      <td>0.00</td>\n",
       "      <td>0.00</td>\n",
       "    </tr>\n",
       "  </tbody>\n",
       "</table>\n",
       "<p>1082 rows × 6 columns</p>\n",
       "</div>"
      ],
      "text/plain": [
       "      Provider  Borda_points  Sum_first_three_points  Sum_last_points  \\\n",
       "0     PRV51459      3.852049                2.864815             0.99   \n",
       "1     PRV53797      3.412103                2.450401             0.96   \n",
       "2     PRV51574      3.347965                2.384135             0.96   \n",
       "7     PRV52019      2.912066                1.912066             1.00   \n",
       "10    PRV55462      2.921424                1.929935             0.99   \n",
       "...        ...           ...                     ...              ...   \n",
       "726   PRV57518      0.009259                0.009259             0.00   \n",
       "729   PRV51735      0.003704                0.003704             0.00   \n",
       "730   PRV56322      0.001852                0.001852             0.00   \n",
       "194   PRV52593      0.000000                0.000000             0.00   \n",
       "1081  PRV54653      0.000000                0.000000             0.00   \n",
       "\n",
       "      avg_ICD  Total_avg  \n",
       "0        0.95       1.94  \n",
       "1        0.82       1.78  \n",
       "2        0.79       1.75  \n",
       "7        0.64       1.64  \n",
       "10       0.64       1.63  \n",
       "...       ...        ...  \n",
       "726      0.00       0.00  \n",
       "729      0.00       0.00  \n",
       "730      0.00       0.00  \n",
       "194      0.00       0.00  \n",
       "1081     0.00       0.00  \n",
       "\n",
       "[1082 rows x 6 columns]"
      ]
     },
     "execution_count": 263,
     "metadata": {},
     "output_type": "execute_result"
    }
   ],
   "source": [
    "df_borda_rankings"
   ]
  },
  {
   "cell_type": "code",
   "execution_count": 264,
   "metadata": {},
   "outputs": [],
   "source": [
    "df_borda_rankings_top=df_borda_rankings[df_borda_rankings.Total_avg>1]"
   ]
  },
  {
   "cell_type": "code",
   "execution_count": 265,
   "metadata": {},
   "outputs": [
    {
     "data": {
      "text/plain": [
       "95"
      ]
     },
     "execution_count": 265,
     "metadata": {},
     "output_type": "execute_result"
    }
   ],
   "source": [
    "len(df_borda_rankings_top)"
   ]
  },
  {
   "cell_type": "markdown",
   "metadata": {},
   "source": [
    "Evaluation with true label"
   ]
  },
  {
   "cell_type": "code",
   "execution_count": 266,
   "metadata": {},
   "outputs": [],
   "source": [
    "datacomp=pd.read_csv('Train-1542865627584.csv')"
   ]
  },
  {
   "cell_type": "code",
   "execution_count": 268,
   "metadata": {},
   "outputs": [],
   "source": [
    "data_compare=datacomp.merge(df_borda_rankings_top,on='Provider',how='left')"
   ]
  },
  {
   "cell_type": "code",
   "execution_count": 269,
   "metadata": {},
   "outputs": [
    {
     "data": {
      "text/html": [
       "<div>\n",
       "<style scoped>\n",
       "    .dataframe tbody tr th:only-of-type {\n",
       "        vertical-align: middle;\n",
       "    }\n",
       "\n",
       "    .dataframe tbody tr th {\n",
       "        vertical-align: top;\n",
       "    }\n",
       "\n",
       "    .dataframe thead th {\n",
       "        text-align: right;\n",
       "    }\n",
       "</style>\n",
       "<table border=\"1\" class=\"dataframe\">\n",
       "  <thead>\n",
       "    <tr style=\"text-align: right;\">\n",
       "      <th></th>\n",
       "      <th>Provider</th>\n",
       "      <th>Borda_points</th>\n",
       "      <th>Sum_first_three_points</th>\n",
       "      <th>Sum_last_points</th>\n",
       "      <th>avg_ICD</th>\n",
       "      <th>Total_avg</th>\n",
       "    </tr>\n",
       "  </thead>\n",
       "  <tbody>\n",
       "    <tr>\n",
       "      <th>0</th>\n",
       "      <td>PRV51459</td>\n",
       "      <td>3.852049</td>\n",
       "      <td>2.864815</td>\n",
       "      <td>0.99</td>\n",
       "      <td>0.95</td>\n",
       "      <td>1.94</td>\n",
       "    </tr>\n",
       "    <tr>\n",
       "      <th>1</th>\n",
       "      <td>PRV53797</td>\n",
       "      <td>3.412103</td>\n",
       "      <td>2.450401</td>\n",
       "      <td>0.96</td>\n",
       "      <td>0.82</td>\n",
       "      <td>1.78</td>\n",
       "    </tr>\n",
       "    <tr>\n",
       "      <th>2</th>\n",
       "      <td>PRV51574</td>\n",
       "      <td>3.347965</td>\n",
       "      <td>2.384135</td>\n",
       "      <td>0.96</td>\n",
       "      <td>0.79</td>\n",
       "      <td>1.75</td>\n",
       "    </tr>\n",
       "    <tr>\n",
       "      <th>7</th>\n",
       "      <td>PRV52019</td>\n",
       "      <td>2.912066</td>\n",
       "      <td>1.912066</td>\n",
       "      <td>1.00</td>\n",
       "      <td>0.64</td>\n",
       "      <td>1.64</td>\n",
       "    </tr>\n",
       "    <tr>\n",
       "      <th>10</th>\n",
       "      <td>PRV55462</td>\n",
       "      <td>2.921424</td>\n",
       "      <td>1.929935</td>\n",
       "      <td>0.99</td>\n",
       "      <td>0.64</td>\n",
       "      <td>1.63</td>\n",
       "    </tr>\n",
       "    <tr>\n",
       "      <th>...</th>\n",
       "      <td>...</td>\n",
       "      <td>...</td>\n",
       "      <td>...</td>\n",
       "      <td>...</td>\n",
       "      <td>...</td>\n",
       "      <td>...</td>\n",
       "    </tr>\n",
       "    <tr>\n",
       "      <th>112</th>\n",
       "      <td>PRV53808</td>\n",
       "      <td>1.333319</td>\n",
       "      <td>0.422680</td>\n",
       "      <td>0.91</td>\n",
       "      <td>0.14</td>\n",
       "      <td>1.05</td>\n",
       "    </tr>\n",
       "    <tr>\n",
       "      <th>71</th>\n",
       "      <td>PRV51005</td>\n",
       "      <td>2.026298</td>\n",
       "      <td>1.485872</td>\n",
       "      <td>0.54</td>\n",
       "      <td>0.50</td>\n",
       "      <td>1.04</td>\n",
       "    </tr>\n",
       "    <tr>\n",
       "      <th>74</th>\n",
       "      <td>PRV54688</td>\n",
       "      <td>1.676713</td>\n",
       "      <td>0.985223</td>\n",
       "      <td>0.69</td>\n",
       "      <td>0.33</td>\n",
       "      <td>1.02</td>\n",
       "    </tr>\n",
       "    <tr>\n",
       "      <th>171</th>\n",
       "      <td>PRV51146</td>\n",
       "      <td>1.145822</td>\n",
       "      <td>0.192631</td>\n",
       "      <td>0.95</td>\n",
       "      <td>0.06</td>\n",
       "      <td>1.01</td>\n",
       "    </tr>\n",
       "    <tr>\n",
       "      <th>58</th>\n",
       "      <td>PRV53895</td>\n",
       "      <td>1.740432</td>\n",
       "      <td>1.093624</td>\n",
       "      <td>0.65</td>\n",
       "      <td>0.36</td>\n",
       "      <td>1.01</td>\n",
       "    </tr>\n",
       "  </tbody>\n",
       "</table>\n",
       "<p>95 rows × 6 columns</p>\n",
       "</div>"
      ],
      "text/plain": [
       "     Provider  Borda_points  Sum_first_three_points  Sum_last_points  avg_ICD  \\\n",
       "0    PRV51459      3.852049                2.864815             0.99     0.95   \n",
       "1    PRV53797      3.412103                2.450401             0.96     0.82   \n",
       "2    PRV51574      3.347965                2.384135             0.96     0.79   \n",
       "7    PRV52019      2.912066                1.912066             1.00     0.64   \n",
       "10   PRV55462      2.921424                1.929935             0.99     0.64   \n",
       "..        ...           ...                     ...              ...      ...   \n",
       "112  PRV53808      1.333319                0.422680             0.91     0.14   \n",
       "71   PRV51005      2.026298                1.485872             0.54     0.50   \n",
       "74   PRV54688      1.676713                0.985223             0.69     0.33   \n",
       "171  PRV51146      1.145822                0.192631             0.95     0.06   \n",
       "58   PRV53895      1.740432                1.093624             0.65     0.36   \n",
       "\n",
       "     Total_avg  \n",
       "0         1.94  \n",
       "1         1.78  \n",
       "2         1.75  \n",
       "7         1.64  \n",
       "10        1.63  \n",
       "..         ...  \n",
       "112       1.05  \n",
       "71        1.04  \n",
       "74        1.02  \n",
       "171       1.01  \n",
       "58        1.01  \n",
       "\n",
       "[95 rows x 6 columns]"
      ]
     },
     "execution_count": 269,
     "metadata": {},
     "output_type": "execute_result"
    }
   ],
   "source": [
    "df_borda_rankings_top"
   ]
  },
  {
   "cell_type": "code",
   "execution_count": 270,
   "metadata": {},
   "outputs": [],
   "source": [
    "data_correct=data_compare[(data_compare.PotentialFraud=='Yes') & (data_compare.Total_avg.notna())]"
   ]
  },
  {
   "cell_type": "code",
   "execution_count": 271,
   "metadata": {},
   "outputs": [
    {
     "data": {
      "text/plain": [
       "88"
      ]
     },
     "execution_count": 271,
     "metadata": {},
     "output_type": "execute_result"
    }
   ],
   "source": [
    "len(data_correct)"
   ]
  },
  {
   "cell_type": "code",
   "execution_count": 225,
   "metadata": {},
   "outputs": [],
   "source": [
    "data_compare['pred']=data_compare['Borda_points'].apply(lambda x: 1 if x>0 else 0  )\n",
    "data_compare['Actual']=data_compare['PotentialFraud'].apply(lambda x: 1 if x=='Yes' else 0  )"
   ]
  },
  {
   "cell_type": "code",
   "execution_count": 226,
   "metadata": {},
   "outputs": [
    {
     "data": {
      "text/html": [
       "<div>\n",
       "<style scoped>\n",
       "    .dataframe tbody tr th:only-of-type {\n",
       "        vertical-align: middle;\n",
       "    }\n",
       "\n",
       "    .dataframe tbody tr th {\n",
       "        vertical-align: top;\n",
       "    }\n",
       "\n",
       "    .dataframe thead th {\n",
       "        text-align: right;\n",
       "    }\n",
       "</style>\n",
       "<table border=\"1\" class=\"dataframe\">\n",
       "  <thead>\n",
       "    <tr style=\"text-align: right;\">\n",
       "      <th></th>\n",
       "      <th>Provider</th>\n",
       "      <th>PotentialFraud</th>\n",
       "      <th>Borda_points</th>\n",
       "      <th>Sum_first_three_points</th>\n",
       "      <th>Sum_last_points</th>\n",
       "      <th>avg_ICD</th>\n",
       "      <th>Total_avg</th>\n",
       "      <th>pred</th>\n",
       "      <th>Actual</th>\n",
       "    </tr>\n",
       "  </thead>\n",
       "  <tbody>\n",
       "    <tr>\n",
       "      <th>0</th>\n",
       "      <td>PRV51001</td>\n",
       "      <td>No</td>\n",
       "      <td>NaN</td>\n",
       "      <td>NaN</td>\n",
       "      <td>NaN</td>\n",
       "      <td>NaN</td>\n",
       "      <td>NaN</td>\n",
       "      <td>0</td>\n",
       "      <td>0</td>\n",
       "    </tr>\n",
       "    <tr>\n",
       "      <th>1</th>\n",
       "      <td>PRV51003</td>\n",
       "      <td>Yes</td>\n",
       "      <td>NaN</td>\n",
       "      <td>NaN</td>\n",
       "      <td>NaN</td>\n",
       "      <td>NaN</td>\n",
       "      <td>NaN</td>\n",
       "      <td>0</td>\n",
       "      <td>1</td>\n",
       "    </tr>\n",
       "    <tr>\n",
       "      <th>2</th>\n",
       "      <td>PRV51004</td>\n",
       "      <td>No</td>\n",
       "      <td>NaN</td>\n",
       "      <td>NaN</td>\n",
       "      <td>NaN</td>\n",
       "      <td>NaN</td>\n",
       "      <td>NaN</td>\n",
       "      <td>0</td>\n",
       "      <td>0</td>\n",
       "    </tr>\n",
       "    <tr>\n",
       "      <th>3</th>\n",
       "      <td>PRV51005</td>\n",
       "      <td>Yes</td>\n",
       "      <td>2.016341</td>\n",
       "      <td>1.460064</td>\n",
       "      <td>0.56</td>\n",
       "      <td>0.49</td>\n",
       "      <td>1.05</td>\n",
       "      <td>1</td>\n",
       "      <td>1</td>\n",
       "    </tr>\n",
       "    <tr>\n",
       "      <th>4</th>\n",
       "      <td>PRV51007</td>\n",
       "      <td>No</td>\n",
       "      <td>NaN</td>\n",
       "      <td>NaN</td>\n",
       "      <td>NaN</td>\n",
       "      <td>NaN</td>\n",
       "      <td>NaN</td>\n",
       "      <td>0</td>\n",
       "      <td>0</td>\n",
       "    </tr>\n",
       "    <tr>\n",
       "      <th>...</th>\n",
       "      <td>...</td>\n",
       "      <td>...</td>\n",
       "      <td>...</td>\n",
       "      <td>...</td>\n",
       "      <td>...</td>\n",
       "      <td>...</td>\n",
       "      <td>...</td>\n",
       "      <td>...</td>\n",
       "      <td>...</td>\n",
       "    </tr>\n",
       "    <tr>\n",
       "      <th>5405</th>\n",
       "      <td>PRV57759</td>\n",
       "      <td>No</td>\n",
       "      <td>NaN</td>\n",
       "      <td>NaN</td>\n",
       "      <td>NaN</td>\n",
       "      <td>NaN</td>\n",
       "      <td>NaN</td>\n",
       "      <td>0</td>\n",
       "      <td>0</td>\n",
       "    </tr>\n",
       "    <tr>\n",
       "      <th>5406</th>\n",
       "      <td>PRV57760</td>\n",
       "      <td>No</td>\n",
       "      <td>NaN</td>\n",
       "      <td>NaN</td>\n",
       "      <td>NaN</td>\n",
       "      <td>NaN</td>\n",
       "      <td>NaN</td>\n",
       "      <td>0</td>\n",
       "      <td>0</td>\n",
       "    </tr>\n",
       "    <tr>\n",
       "      <th>5407</th>\n",
       "      <td>PRV57761</td>\n",
       "      <td>No</td>\n",
       "      <td>NaN</td>\n",
       "      <td>NaN</td>\n",
       "      <td>NaN</td>\n",
       "      <td>NaN</td>\n",
       "      <td>NaN</td>\n",
       "      <td>0</td>\n",
       "      <td>0</td>\n",
       "    </tr>\n",
       "    <tr>\n",
       "      <th>5408</th>\n",
       "      <td>PRV57762</td>\n",
       "      <td>No</td>\n",
       "      <td>NaN</td>\n",
       "      <td>NaN</td>\n",
       "      <td>NaN</td>\n",
       "      <td>NaN</td>\n",
       "      <td>NaN</td>\n",
       "      <td>0</td>\n",
       "      <td>0</td>\n",
       "    </tr>\n",
       "    <tr>\n",
       "      <th>5409</th>\n",
       "      <td>PRV57763</td>\n",
       "      <td>No</td>\n",
       "      <td>NaN</td>\n",
       "      <td>NaN</td>\n",
       "      <td>NaN</td>\n",
       "      <td>NaN</td>\n",
       "      <td>NaN</td>\n",
       "      <td>0</td>\n",
       "      <td>0</td>\n",
       "    </tr>\n",
       "  </tbody>\n",
       "</table>\n",
       "<p>5410 rows × 9 columns</p>\n",
       "</div>"
      ],
      "text/plain": [
       "      Provider PotentialFraud  Borda_points  Sum_first_three_points  \\\n",
       "0     PRV51001             No           NaN                     NaN   \n",
       "1     PRV51003            Yes           NaN                     NaN   \n",
       "2     PRV51004             No           NaN                     NaN   \n",
       "3     PRV51005            Yes      2.016341                1.460064   \n",
       "4     PRV51007             No           NaN                     NaN   \n",
       "...        ...            ...           ...                     ...   \n",
       "5405  PRV57759             No           NaN                     NaN   \n",
       "5406  PRV57760             No           NaN                     NaN   \n",
       "5407  PRV57761             No           NaN                     NaN   \n",
       "5408  PRV57762             No           NaN                     NaN   \n",
       "5409  PRV57763             No           NaN                     NaN   \n",
       "\n",
       "      Sum_last_points  avg_ICD  Total_avg  pred  Actual  \n",
       "0                 NaN      NaN        NaN     0       0  \n",
       "1                 NaN      NaN        NaN     0       1  \n",
       "2                 NaN      NaN        NaN     0       0  \n",
       "3                0.56     0.49       1.05     1       1  \n",
       "4                 NaN      NaN        NaN     0       0  \n",
       "...               ...      ...        ...   ...     ...  \n",
       "5405              NaN      NaN        NaN     0       0  \n",
       "5406              NaN      NaN        NaN     0       0  \n",
       "5407              NaN      NaN        NaN     0       0  \n",
       "5408              NaN      NaN        NaN     0       0  \n",
       "5409              NaN      NaN        NaN     0       0  \n",
       "\n",
       "[5410 rows x 9 columns]"
      ]
     },
     "execution_count": 226,
     "metadata": {},
     "output_type": "execute_result"
    }
   ],
   "source": [
    "data_compare"
   ]
  },
  {
   "cell_type": "code",
   "execution_count": 78,
   "metadata": {},
   "outputs": [],
   "source": [
    "from sklearn import metrics"
   ]
  },
  {
   "cell_type": "code",
   "execution_count": 173,
   "metadata": {},
   "outputs": [],
   "source": [
    "confusion_matrix = metrics.confusion_matrix(data_compare['Actual'], data_compare['pred'])"
   ]
  },
  {
   "cell_type": "code",
   "execution_count": 174,
   "metadata": {},
   "outputs": [],
   "source": [
    "cm_display = metrics.ConfusionMatrixDisplay(confusion_matrix = confusion_matrix, display_labels = [0, 1])"
   ]
  },
  {
   "cell_type": "code",
   "execution_count": 175,
   "metadata": {},
   "outputs": [
    {
     "data": {
      "image/png": "[encoded data removed]",
      "text/plain": [
       "<Figure size 640x480 with 2 Axes>"
      ]
     },
     "metadata": {},
     "output_type": "display_data"
    }
   ],
   "source": [
    "cm_display.plot()\n",
    "plt.show()"
   ]
  },
  {
   "cell_type": "code",
   "execution_count": 176,
   "metadata": {},
   "outputs": [],
   "source": [
    "Accuracy = metrics.accuracy_score(data_compare['Actual'], data_compare['pred'])"
   ]
  },
  {
   "cell_type": "code",
   "execution_count": 177,
   "metadata": {},
   "outputs": [
    {
     "data": {
      "text/plain": [
       "0.9194085027726433"
      ]
     },
     "execution_count": 177,
     "metadata": {},
     "output_type": "execute_result"
    }
   ],
   "source": [
    "Accuracy"
   ]
  },
  {
   "cell_type": "code",
   "execution_count": 178,
   "metadata": {},
   "outputs": [],
   "source": [
    "F1_score = metrics.f1_score(data_compare['Actual'], data_compare['pred'])"
   ]
  },
  {
   "cell_type": "code",
   "execution_count": 179,
   "metadata": {},
   "outputs": [
    {
     "data": {
      "text/plain": [
       "0.26101694915254237"
      ]
     },
     "execution_count": 179,
     "metadata": {},
     "output_type": "execute_result"
    }
   ],
   "source": [
    "F1_score"
   ]
  },
  {
   "cell_type": "code",
   "execution_count": 180,
   "metadata": {},
   "outputs": [],
   "source": [
    "Precision = metrics.precision_score(data_compare['Actual'], data_compare['pred'])"
   ]
  },
  {
   "cell_type": "code",
   "execution_count": 181,
   "metadata": {},
   "outputs": [
    {
     "data": {
      "text/plain": [
       "0.9166666666666666"
      ]
     },
     "execution_count": 181,
     "metadata": {},
     "output_type": "execute_result"
    }
   ],
   "source": [
    "Precision"
   ]
  },
  {
   "cell_type": "code",
   "execution_count": 182,
   "metadata": {},
   "outputs": [],
   "source": [
    "Sensitivity_recall = metrics.recall_score(data_compare['Actual'], data_compare['pred'])"
   ]
  },
  {
   "cell_type": "code",
   "execution_count": 183,
   "metadata": {},
   "outputs": [
    {
     "data": {
      "text/plain": [
       "0.15217391304347827"
      ]
     },
     "execution_count": 183,
     "metadata": {},
     "output_type": "execute_result"
    }
   ],
   "source": [
    "Sensitivity_recall"
   ]
  },
  {
   "cell_type": "code",
   "execution_count": 227,
   "metadata": {},
   "outputs": [],
   "source": [
    "sorted=data_compare.sort_values(by='Borda_points',ascending=False)"
   ]
  },
  {
   "cell_type": "code",
   "execution_count": 228,
   "metadata": {},
   "outputs": [
    {
     "data": {
      "text/html": [
       "<div>\n",
       "<style scoped>\n",
       "    .dataframe tbody tr th:only-of-type {\n",
       "        vertical-align: middle;\n",
       "    }\n",
       "\n",
       "    .dataframe tbody tr th {\n",
       "        vertical-align: top;\n",
       "    }\n",
       "\n",
       "    .dataframe thead th {\n",
       "        text-align: right;\n",
       "    }\n",
       "</style>\n",
       "<table border=\"1\" class=\"dataframe\">\n",
       "  <thead>\n",
       "    <tr style=\"text-align: right;\">\n",
       "      <th></th>\n",
       "      <th>Provider</th>\n",
       "      <th>PotentialFraud</th>\n",
       "      <th>Borda_points</th>\n",
       "      <th>Sum_first_three_points</th>\n",
       "      <th>Sum_last_points</th>\n",
       "      <th>avg_ICD</th>\n",
       "      <th>Total_avg</th>\n",
       "      <th>pred</th>\n",
       "      <th>Actual</th>\n",
       "    </tr>\n",
       "  </thead>\n",
       "  <tbody>\n",
       "    <tr>\n",
       "      <th>3</th>\n",
       "      <td>PRV51005</td>\n",
       "      <td>Yes</td>\n",
       "      <td>2.016341</td>\n",
       "      <td>1.460064</td>\n",
       "      <td>0.56</td>\n",
       "      <td>0.49</td>\n",
       "      <td>1.05</td>\n",
       "      <td>1</td>\n",
       "      <td>1</td>\n",
       "    </tr>\n",
       "    <tr>\n",
       "      <th>113</th>\n",
       "      <td>PRV51145</td>\n",
       "      <td>Yes</td>\n",
       "      <td>1.460221</td>\n",
       "      <td>0.607407</td>\n",
       "      <td>0.85</td>\n",
       "      <td>0.20</td>\n",
       "      <td>1.05</td>\n",
       "      <td>1</td>\n",
       "      <td>1</td>\n",
       "    </tr>\n",
       "    <tr>\n",
       "      <th>114</th>\n",
       "      <td>PRV51146</td>\n",
       "      <td>Yes</td>\n",
       "      <td>1.162235</td>\n",
       "      <td>0.207689</td>\n",
       "      <td>0.95</td>\n",
       "      <td>0.07</td>\n",
       "      <td>1.02</td>\n",
       "      <td>1</td>\n",
       "      <td>1</td>\n",
       "    </tr>\n",
       "    <tr>\n",
       "      <th>190</th>\n",
       "      <td>PRV51244</td>\n",
       "      <td>Yes</td>\n",
       "      <td>2.583375</td>\n",
       "      <td>1.611514</td>\n",
       "      <td>0.97</td>\n",
       "      <td>0.54</td>\n",
       "      <td>1.51</td>\n",
       "      <td>1</td>\n",
       "      <td>1</td>\n",
       "    </tr>\n",
       "    <tr>\n",
       "      <th>273</th>\n",
       "      <td>PRV51347</td>\n",
       "      <td>Yes</td>\n",
       "      <td>2.715739</td>\n",
       "      <td>1.854267</td>\n",
       "      <td>0.86</td>\n",
       "      <td>0.62</td>\n",
       "      <td>1.48</td>\n",
       "      <td>1</td>\n",
       "      <td>1</td>\n",
       "    </tr>\n",
       "    <tr>\n",
       "      <th>...</th>\n",
       "      <td>...</td>\n",
       "      <td>...</td>\n",
       "      <td>...</td>\n",
       "      <td>...</td>\n",
       "      <td>...</td>\n",
       "      <td>...</td>\n",
       "      <td>...</td>\n",
       "      <td>...</td>\n",
       "      <td>...</td>\n",
       "    </tr>\n",
       "    <tr>\n",
       "      <th>4861</th>\n",
       "      <td>PRV57103</td>\n",
       "      <td>Yes</td>\n",
       "      <td>2.643636</td>\n",
       "      <td>1.754026</td>\n",
       "      <td>0.89</td>\n",
       "      <td>0.58</td>\n",
       "      <td>1.47</td>\n",
       "      <td>1</td>\n",
       "      <td>1</td>\n",
       "    </tr>\n",
       "    <tr>\n",
       "      <th>4922</th>\n",
       "      <td>PRV57172</td>\n",
       "      <td>Yes</td>\n",
       "      <td>2.757877</td>\n",
       "      <td>1.801167</td>\n",
       "      <td>0.96</td>\n",
       "      <td>0.60</td>\n",
       "      <td>1.56</td>\n",
       "      <td>1</td>\n",
       "      <td>1</td>\n",
       "    </tr>\n",
       "    <tr>\n",
       "      <th>4923</th>\n",
       "      <td>PRV57173</td>\n",
       "      <td>Yes</td>\n",
       "      <td>2.149135</td>\n",
       "      <td>1.246538</td>\n",
       "      <td>0.90</td>\n",
       "      <td>0.42</td>\n",
       "      <td>1.32</td>\n",
       "      <td>1</td>\n",
       "      <td>1</td>\n",
       "    </tr>\n",
       "    <tr>\n",
       "      <th>4939</th>\n",
       "      <td>PRV57191</td>\n",
       "      <td>Yes</td>\n",
       "      <td>1.881353</td>\n",
       "      <td>0.907327</td>\n",
       "      <td>0.97</td>\n",
       "      <td>0.30</td>\n",
       "      <td>1.27</td>\n",
       "      <td>1</td>\n",
       "      <td>1</td>\n",
       "    </tr>\n",
       "    <tr>\n",
       "      <th>5032</th>\n",
       "      <td>PRV57306</td>\n",
       "      <td>Yes</td>\n",
       "      <td>2.757823</td>\n",
       "      <td>1.881200</td>\n",
       "      <td>0.88</td>\n",
       "      <td>0.63</td>\n",
       "      <td>1.51</td>\n",
       "      <td>1</td>\n",
       "      <td>1</td>\n",
       "    </tr>\n",
       "  </tbody>\n",
       "</table>\n",
       "<p>77 rows × 9 columns</p>\n",
       "</div>"
      ],
      "text/plain": [
       "      Provider PotentialFraud  Borda_points  Sum_first_three_points  \\\n",
       "3     PRV51005            Yes      2.016341                1.460064   \n",
       "113   PRV51145            Yes      1.460221                0.607407   \n",
       "114   PRV51146            Yes      1.162235                0.207689   \n",
       "190   PRV51244            Yes      2.583375                1.611514   \n",
       "273   PRV51347            Yes      2.715739                1.854267   \n",
       "...        ...            ...           ...                     ...   \n",
       "4861  PRV57103            Yes      2.643636                1.754026   \n",
       "4922  PRV57172            Yes      2.757877                1.801167   \n",
       "4923  PRV57173            Yes      2.149135                1.246538   \n",
       "4939  PRV57191            Yes      1.881353                0.907327   \n",
       "5032  PRV57306            Yes      2.757823                1.881200   \n",
       "\n",
       "      Sum_last_points  avg_ICD  Total_avg  pred  Actual  \n",
       "3                0.56     0.49       1.05     1       1  \n",
       "113              0.85     0.20       1.05     1       1  \n",
       "114              0.95     0.07       1.02     1       1  \n",
       "190              0.97     0.54       1.51     1       1  \n",
       "273              0.86     0.62       1.48     1       1  \n",
       "...               ...      ...        ...   ...     ...  \n",
       "4861             0.89     0.58       1.47     1       1  \n",
       "4922             0.96     0.60       1.56     1       1  \n",
       "4923             0.90     0.42       1.32     1       1  \n",
       "4939             0.97     0.30       1.27     1       1  \n",
       "5032             0.88     0.63       1.51     1       1  \n",
       "\n",
       "[77 rows x 9 columns]"
      ]
     },
     "execution_count": 228,
     "metadata": {},
     "output_type": "execute_result"
    }
   ],
   "source": [
    "data_compare[(data_compare.PotentialFraud=='Yes') & (data_compare.Borda_points.notna())]"
   ]
  },
  {
   "cell_type": "code",
   "execution_count": 229,
   "metadata": {},
   "outputs": [],
   "source": [
    "data_comb=data_combined[['PRV_TotalInscClaimAmtReimbursed','Provider']]"
   ]
  },
  {
   "cell_type": "code",
   "execution_count": 230,
   "metadata": {},
   "outputs": [],
   "source": [
    "data_full1=data_compare.merge(data_comb,on='Provider',how='inner')"
   ]
  },
  {
   "cell_type": "code",
   "execution_count": 231,
   "metadata": {},
   "outputs": [
    {
     "data": {
      "text/html": [
       "<div>\n",
       "<style scoped>\n",
       "    .dataframe tbody tr th:only-of-type {\n",
       "        vertical-align: middle;\n",
       "    }\n",
       "\n",
       "    .dataframe tbody tr th {\n",
       "        vertical-align: top;\n",
       "    }\n",
       "\n",
       "    .dataframe thead th {\n",
       "        text-align: right;\n",
       "    }\n",
       "</style>\n",
       "<table border=\"1\" class=\"dataframe\">\n",
       "  <thead>\n",
       "    <tr style=\"text-align: right;\">\n",
       "      <th></th>\n",
       "      <th>Provider</th>\n",
       "      <th>PotentialFraud</th>\n",
       "      <th>Borda_points</th>\n",
       "      <th>Sum_first_three_points</th>\n",
       "      <th>Sum_last_points</th>\n",
       "      <th>avg_ICD</th>\n",
       "      <th>Total_avg</th>\n",
       "      <th>pred</th>\n",
       "      <th>Actual</th>\n",
       "      <th>PRV_TotalInscClaimAmtReimbursed</th>\n",
       "    </tr>\n",
       "  </thead>\n",
       "  <tbody>\n",
       "    <tr>\n",
       "      <th>363</th>\n",
       "      <td>PRV51459</td>\n",
       "      <td>Yes</td>\n",
       "      <td>3.648124</td>\n",
       "      <td>2.661111</td>\n",
       "      <td>0.99</td>\n",
       "      <td>0.89</td>\n",
       "      <td>1.88</td>\n",
       "      <td>1</td>\n",
       "      <td>1</td>\n",
       "      <td>508210</td>\n",
       "    </tr>\n",
       "  </tbody>\n",
       "</table>\n",
       "</div>"
      ],
      "text/plain": [
       "     Provider PotentialFraud  Borda_points  Sum_first_three_points  \\\n",
       "363  PRV51459            Yes      3.648124                2.661111   \n",
       "\n",
       "     Sum_last_points  avg_ICD  Total_avg  pred  Actual  \\\n",
       "363             0.99     0.89       1.88     1       1   \n",
       "\n",
       "     PRV_TotalInscClaimAmtReimbursed  \n",
       "363                           508210  "
      ]
     },
     "execution_count": 231,
     "metadata": {},
     "output_type": "execute_result"
    }
   ],
   "source": [
    "data_full1[data_full1.Provider=='PRV51459']"
   ]
  },
  {
   "cell_type": "code",
   "execution_count": 232,
   "metadata": {},
   "outputs": [],
   "source": [
    "data_mat=util.pickle_load(config_data[\"raw_dataset_path_data_matrix\"])"
   ]
  },
  {
   "cell_type": "code",
   "execution_count": 233,
   "metadata": {},
   "outputs": [],
   "source": [
    "data_mat=data_mat[['Provider','Anomaly_ind','Anomaly_score']]"
   ]
  },
  {
   "cell_type": "code",
   "execution_count": 234,
   "metadata": {},
   "outputs": [],
   "source": [
    "data_full2=data_full1.merge(data_mat,on='Provider',how='inner')"
   ]
  },
  {
   "cell_type": "code",
   "execution_count": 235,
   "metadata": {},
   "outputs": [
    {
     "data": {
      "text/html": [
       "<div>\n",
       "<style scoped>\n",
       "    .dataframe tbody tr th:only-of-type {\n",
       "        vertical-align: middle;\n",
       "    }\n",
       "\n",
       "    .dataframe tbody tr th {\n",
       "        vertical-align: top;\n",
       "    }\n",
       "\n",
       "    .dataframe thead th {\n",
       "        text-align: right;\n",
       "    }\n",
       "</style>\n",
       "<table border=\"1\" class=\"dataframe\">\n",
       "  <thead>\n",
       "    <tr style=\"text-align: right;\">\n",
       "      <th></th>\n",
       "      <th>Provider</th>\n",
       "      <th>PotentialFraud</th>\n",
       "      <th>Borda_points</th>\n",
       "      <th>Sum_first_three_points</th>\n",
       "      <th>Sum_last_points</th>\n",
       "      <th>avg_ICD</th>\n",
       "      <th>Total_avg</th>\n",
       "      <th>pred</th>\n",
       "      <th>Actual</th>\n",
       "      <th>PRV_TotalInscClaimAmtReimbursed</th>\n",
       "      <th>Anomaly_ind</th>\n",
       "      <th>Anomaly_score</th>\n",
       "    </tr>\n",
       "  </thead>\n",
       "  <tbody>\n",
       "    <tr>\n",
       "      <th>0</th>\n",
       "      <td>PRV51001</td>\n",
       "      <td>No</td>\n",
       "      <td>NaN</td>\n",
       "      <td>NaN</td>\n",
       "      <td>NaN</td>\n",
       "      <td>NaN</td>\n",
       "      <td>NaN</td>\n",
       "      <td>0</td>\n",
       "      <td>0</td>\n",
       "      <td>797790</td>\n",
       "      <td>1</td>\n",
       "      <td>0.136999</td>\n",
       "    </tr>\n",
       "    <tr>\n",
       "      <th>1</th>\n",
       "      <td>PRV51003</td>\n",
       "      <td>Yes</td>\n",
       "      <td>NaN</td>\n",
       "      <td>NaN</td>\n",
       "      <td>NaN</td>\n",
       "      <td>NaN</td>\n",
       "      <td>NaN</td>\n",
       "      <td>0</td>\n",
       "      <td>1</td>\n",
       "      <td>98250</td>\n",
       "      <td>1</td>\n",
       "      <td>0.004424</td>\n",
       "    </tr>\n",
       "    <tr>\n",
       "      <th>2</th>\n",
       "      <td>PRV51004</td>\n",
       "      <td>No</td>\n",
       "      <td>NaN</td>\n",
       "      <td>NaN</td>\n",
       "      <td>NaN</td>\n",
       "      <td>NaN</td>\n",
       "      <td>NaN</td>\n",
       "      <td>0</td>\n",
       "      <td>0</td>\n",
       "      <td>1720120</td>\n",
       "      <td>1</td>\n",
       "      <td>0.067138</td>\n",
       "    </tr>\n",
       "    <tr>\n",
       "      <th>3</th>\n",
       "      <td>PRV51005</td>\n",
       "      <td>Yes</td>\n",
       "      <td>2.016341</td>\n",
       "      <td>1.460064</td>\n",
       "      <td>0.56</td>\n",
       "      <td>0.49</td>\n",
       "      <td>1.05</td>\n",
       "      <td>1</td>\n",
       "      <td>1</td>\n",
       "      <td>4960</td>\n",
       "      <td>-1</td>\n",
       "      <td>-0.211836</td>\n",
       "    </tr>\n",
       "    <tr>\n",
       "      <th>4</th>\n",
       "      <td>PRV51007</td>\n",
       "      <td>No</td>\n",
       "      <td>NaN</td>\n",
       "      <td>NaN</td>\n",
       "      <td>NaN</td>\n",
       "      <td>NaN</td>\n",
       "      <td>NaN</td>\n",
       "      <td>0</td>\n",
       "      <td>0</td>\n",
       "      <td>30130</td>\n",
       "      <td>1</td>\n",
       "      <td>0.106610</td>\n",
       "    </tr>\n",
       "    <tr>\n",
       "      <th>...</th>\n",
       "      <td>...</td>\n",
       "      <td>...</td>\n",
       "      <td>...</td>\n",
       "      <td>...</td>\n",
       "      <td>...</td>\n",
       "      <td>...</td>\n",
       "      <td>...</td>\n",
       "      <td>...</td>\n",
       "      <td>...</td>\n",
       "      <td>...</td>\n",
       "      <td>...</td>\n",
       "      <td>...</td>\n",
       "    </tr>\n",
       "    <tr>\n",
       "      <th>5405</th>\n",
       "      <td>PRV57759</td>\n",
       "      <td>No</td>\n",
       "      <td>NaN</td>\n",
       "      <td>NaN</td>\n",
       "      <td>NaN</td>\n",
       "      <td>NaN</td>\n",
       "      <td>NaN</td>\n",
       "      <td>0</td>\n",
       "      <td>0</td>\n",
       "      <td>11400</td>\n",
       "      <td>1</td>\n",
       "      <td>0.140546</td>\n",
       "    </tr>\n",
       "    <tr>\n",
       "      <th>5406</th>\n",
       "      <td>PRV57760</td>\n",
       "      <td>No</td>\n",
       "      <td>NaN</td>\n",
       "      <td>NaN</td>\n",
       "      <td>NaN</td>\n",
       "      <td>NaN</td>\n",
       "      <td>NaN</td>\n",
       "      <td>0</td>\n",
       "      <td>0</td>\n",
       "      <td>2424430</td>\n",
       "      <td>1</td>\n",
       "      <td>0.141114</td>\n",
       "    </tr>\n",
       "    <tr>\n",
       "      <th>5407</th>\n",
       "      <td>PRV57761</td>\n",
       "      <td>No</td>\n",
       "      <td>NaN</td>\n",
       "      <td>NaN</td>\n",
       "      <td>NaN</td>\n",
       "      <td>NaN</td>\n",
       "      <td>NaN</td>\n",
       "      <td>0</td>\n",
       "      <td>0</td>\n",
       "      <td>505000</td>\n",
       "      <td>1</td>\n",
       "      <td>0.100166</td>\n",
       "    </tr>\n",
       "    <tr>\n",
       "      <th>5408</th>\n",
       "      <td>PRV57762</td>\n",
       "      <td>No</td>\n",
       "      <td>NaN</td>\n",
       "      <td>NaN</td>\n",
       "      <td>NaN</td>\n",
       "      <td>NaN</td>\n",
       "      <td>NaN</td>\n",
       "      <td>0</td>\n",
       "      <td>0</td>\n",
       "      <td>2284560</td>\n",
       "      <td>1</td>\n",
       "      <td>0.121545</td>\n",
       "    </tr>\n",
       "    <tr>\n",
       "      <th>5409</th>\n",
       "      <td>PRV57763</td>\n",
       "      <td>No</td>\n",
       "      <td>NaN</td>\n",
       "      <td>NaN</td>\n",
       "      <td>NaN</td>\n",
       "      <td>NaN</td>\n",
       "      <td>NaN</td>\n",
       "      <td>0</td>\n",
       "      <td>0</td>\n",
       "      <td>57260</td>\n",
       "      <td>1</td>\n",
       "      <td>0.085985</td>\n",
       "    </tr>\n",
       "  </tbody>\n",
       "</table>\n",
       "<p>5410 rows × 12 columns</p>\n",
       "</div>"
      ],
      "text/plain": [
       "      Provider PotentialFraud  Borda_points  Sum_first_three_points  \\\n",
       "0     PRV51001             No           NaN                     NaN   \n",
       "1     PRV51003            Yes           NaN                     NaN   \n",
       "2     PRV51004             No           NaN                     NaN   \n",
       "3     PRV51005            Yes      2.016341                1.460064   \n",
       "4     PRV51007             No           NaN                     NaN   \n",
       "...        ...            ...           ...                     ...   \n",
       "5405  PRV57759             No           NaN                     NaN   \n",
       "5406  PRV57760             No           NaN                     NaN   \n",
       "5407  PRV57761             No           NaN                     NaN   \n",
       "5408  PRV57762             No           NaN                     NaN   \n",
       "5409  PRV57763             No           NaN                     NaN   \n",
       "\n",
       "      Sum_last_points  avg_ICD  Total_avg  pred  Actual  \\\n",
       "0                 NaN      NaN        NaN     0       0   \n",
       "1                 NaN      NaN        NaN     0       1   \n",
       "2                 NaN      NaN        NaN     0       0   \n",
       "3                0.56     0.49       1.05     1       1   \n",
       "4                 NaN      NaN        NaN     0       0   \n",
       "...               ...      ...        ...   ...     ...   \n",
       "5405              NaN      NaN        NaN     0       0   \n",
       "5406              NaN      NaN        NaN     0       0   \n",
       "5407              NaN      NaN        NaN     0       0   \n",
       "5408              NaN      NaN        NaN     0       0   \n",
       "5409              NaN      NaN        NaN     0       0   \n",
       "\n",
       "      PRV_TotalInscClaimAmtReimbursed  Anomaly_ind  Anomaly_score  \n",
       "0                              797790            1       0.136999  \n",
       "1                               98250            1       0.004424  \n",
       "2                             1720120            1       0.067138  \n",
       "3                                4960           -1      -0.211836  \n",
       "4                               30130            1       0.106610  \n",
       "...                               ...          ...            ...  \n",
       "5405                            11400            1       0.140546  \n",
       "5406                          2424430            1       0.141114  \n",
       "5407                           505000            1       0.100166  \n",
       "5408                          2284560            1       0.121545  \n",
       "5409                            57260            1       0.085985  \n",
       "\n",
       "[5410 rows x 12 columns]"
      ]
     },
     "execution_count": 235,
     "metadata": {},
     "output_type": "execute_result"
    }
   ],
   "source": [
    "data_full2"
   ]
  },
  {
   "cell_type": "code",
   "execution_count": 236,
   "metadata": {},
   "outputs": [
    {
     "data": {
      "image/png": "[encoded data removed]",
      "text/plain": [
       "<Figure size 800x600 with 1 Axes>"
      ]
     },
     "metadata": {},
     "output_type": "display_data"
    }
   ],
   "source": [
    "from sklearn.metrics import precision_recall_curve\n",
    "import matplotlib.pyplot as plt\n",
    "precision, recall, _ = precision_recall_curve( data_compare['Actual'],-data_full2['Anomaly_score'])\n",
    "precision_baseline2, recall_baseline2, _ = precision_recall_curve(data_compare['Actual'], data_full2['PRV_TotalInscClaimAmtReimbursed']) \n",
    "\n",
    "# Plot Precision-Recall curve\n",
    "plt.figure(figsize=(8, 6))\n",
    "plt.plot(recall, precision, color='b', label='PR Curve Outlier Detection Ensemble')\n",
    "plt.plot(recall_baseline2, precision_baseline2, color='r', label='PR Curve - Total insurance reimuresement amount' )\n",
    "plt.xlabel('Recall')\n",
    "plt.ylabel('Precision')\n",
    "plt.title('Precision-Recall Curve')\n",
    "plt.grid(True)\n",
    "plt.legend()\n",
    "plt.show()"
   ]
  },
  {
   "cell_type": "code",
   "execution_count": 238,
   "metadata": {},
   "outputs": [
    {
     "data": {
      "image/png": "[encoded data removed]",
      "text/plain": [
       "<Figure size 800x600 with 1 Axes>"
      ]
     },
     "metadata": {},
     "output_type": "display_data"
    }
   ],
   "source": [
    "from sklearn.metrics import precision_recall_curve\n",
    "import matplotlib.pyplot as plt\n",
    "import numpy as np\n",
    "\n",
    "# Compute precision, recall, and thresholds for the two models\n",
    "precision, recall, thresholds = precision_recall_curve(data_compare['Actual'], -data_full2['Anomaly_score'])\n",
    "precision_baseline2, recall_baseline2, thresholds_baseline2 = precision_recall_curve(data_compare['Actual'], data_full2['PRV_TotalInscClaimAmtReimbursed'])\n",
    "\n",
    "# Calculate baseline precision (the proportion of positive instances in the data)\n",
    "baseline_precision = np.sum(data_compare['Actual'] == 1) / len(data_compare['Actual'])\n",
    "baseline_precision_baseline2 = np.sum(data_compare['Actual'] == 1) / len(data_compare['Actual'])\n",
    "\n",
    "# Compute Lift for both models\n",
    "lift = precision / baseline_precision\n",
    "lift_baseline2 = precision_baseline2 / baseline_precision_baseline2\n",
    "\n",
    "# Plot Lift curve\n",
    "plt.figure(figsize=(8, 6))\n",
    "plt.plot(recall, lift, color='b', label='Lift - Outlier Detection Ensemble')\n",
    "plt.plot(recall_baseline2, lift_baseline2, color='r', label='Lift - Total Insurance Reimbursement Amount')\n",
    "plt.xlabel('Recall')\n",
    "plt.ylabel('Lift')\n",
    "plt.title('Lift Curve')\n",
    "plt.grid(True)\n",
    "plt.legend()\n",
    "plt.show()"
   ]
  }
 ],
 "metadata": {
  "kernelspec": {
   "display_name": ".venv",
   "language": "python",
   "name": "python3"
  },
  "language_info": {
   "codemirror_mode": {
    "name": "ipython",
    "version": 3
   },
   "file_extension": ".py",
   "mimetype": "text/x-python",
   "name": "python",
   "nbconvert_exporter": "python",
   "pygments_lexer": "ipython3",
   "version": "3.12.4"
  }
 },
 "nbformat": 4,
 "nbformat_minor": 2
}
